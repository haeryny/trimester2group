{
 "cells": [
  {
   "cell_type": "markdown",
   "metadata": {},
   "source": [
    "# Hacks\n",
    "- title: Homework Assignment for 3.3-4\n",
    "- toc: true\n",
    "- tags: [hw]"
   ]
  },
  {
   "cell_type": "markdown",
   "metadata": {},
   "source": [
    "## 3.3 Video 1 Hacks\n",
    "\n",
    "Show two examples and label which one is sequence, selection, iteration"
   ]
  },
  {
   "cell_type": "code",
   "execution_count": null,
   "metadata": {},
   "outputs": [],
   "source": [
    "#These are all the steps that the computer goes through so this is sequencing\n",
    "\n",
    "numbers = [0,1,2,3,4,5,6,7,8,9,10]\n",
    "evens = []\n",
    "\n",
    "# This is selection where they go through the numbers and decide whether if it is even or not. \n",
    "for i in numbers:\n",
    "    # This is iteration because they repeat the steps until they go through all the numbers in the list. \n",
    "    if (numbers[i] % 2 == 0):\n",
    "        evens.append(numbers[i])\n",
    "\n",
    "print(evens)"
   ]
  },
  {
   "cell_type": "code",
   "execution_count": null,
   "metadata": {},
   "outputs": [],
   "source": [
    "# The objective is to make a pyramid of stars\n",
    "# This is the sequence\n",
    "i = 1\n",
    "starString = \"*\"\n",
    "# This is iteration because they repeat until i reaches 5\n",
    "while i <= 5:\n",
    "  j = 1\n",
    "  # This is the selection where they decide what j is\n",
    "  while j <= i:\n",
    "    print (\"*\", end= \"\")\n",
    "    j += 1\n",
    "  print ()\n",
    "  i += 1"
   ]
  },
  {
   "cell_type": "markdown",
   "metadata": {},
   "source": [
    "## 3.3 Video 2 Hacks\n",
    "\n"
   ]
  },
  {
   "cell_type": "markdown",
   "metadata": {},
   "source": [
    "## 3.3 Video 3 Hacks\n",
    "\n"
   ]
  },
  {
   "cell_type": "markdown",
   "metadata": {},
   "source": [
    "## 3.4 Video 1 Hacks\n",
    "\n",
    "### String Homework\n",
    "---------------------------------------------------------------\n",
    "\n",
    "\n",
    "### Test 1\n",
    "\n",
    "    firstName <- \"Bob\"\n",
    "    lastName <- \"Smith\"\n",
    "    var <- substring(firstName, 1, 1)\n",
    "    name <- concat(lastName, var)\n",
    "    email <- concat(name, \"@gmail.com\")\n",
    "    DISPLAY(email)\n",
    "\n",
    "What would the result be?\n",
    "\n",
    "###### Hint:\n",
    "###### var = \"B\"\n",
    "###### name = \"SmithB\"\n",
    "\n",
    "---------------------------------------------------------------\n",
    "### Test 2\n",
    "\n",
    "    word1 <- \"computer\"\n",
    "    word2 <- \"textbooks\"\n",
    "    length1 <- len(word1)/2\n",
    "    length2 <- len(word2)/3\n",
    "    first <- substring(word1, 2, len1)\n",
    "    second <- substring(word2, len2+3, len2)\n",
    "    newWord <- concat(first, second)\n",
    "    DISPLAY(newWord)\n",
    "---------------------------------------------------------------\n",
    "\n",
    "## Answers\n",
    "#### Test 1\n",
    "##### Result: \"SmithB@gmail.com\"\n",
    "\n",
    "#### Test 2\n",
    "##### Result: \"ompuook\"\n",
    "\n",
    "\n"
   ]
  }
 ],
 "metadata": {
  "kernelspec": {
   "display_name": "Python 3.8.2 64-bit",
   "language": "python",
   "name": "python3"
  },
  "language_info": {
   "name": "python",
   "version": "3.8.2"
  },
  "orig_nbformat": 4,
  "vscode": {
   "interpreter": {
    "hash": "31f2aee4e71d21fbe5cf8b01ff0e069b9275f58929596ceb00d14d90e3e16cd6"
   }
  }
 },
 "nbformat": 4,
 "nbformat_minor": 2
}
