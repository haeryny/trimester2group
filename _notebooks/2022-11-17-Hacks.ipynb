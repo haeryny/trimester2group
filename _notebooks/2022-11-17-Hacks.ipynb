{
 "cells": [
  {
   "cell_type": "markdown",
   "metadata": {},
   "source": [
    "# Hacks\n",
    "- title: Homework Assignment for 3.3-4\n",
    "- toc: true\n",
    "- tags: [hw]"
   ]
  },
  {
   "cell_type": "markdown",
   "metadata": {},
   "source": [
    "## 3.3 Video 1 Hacks\n",
    "\n",
    "I will show example of a piece of code and the student has to label which one is the sequence, selection, and iteration. There will be two examples."
   ]
  },
  {
   "cell_type": "code",
   "execution_count": 3,
   "metadata": {},
   "outputs": [
    {
     "name": "stdout",
     "output_type": "stream",
     "text": [
      "[0, 2, 4, 6, 8, 10]\n"
     ]
    }
   ],
   "source": [
    "# These are all the steps that the computer goes through so this is sequencing\n",
    "\n",
    "numbers = [0,1,2,3,4,5,6,7,8,9,10]\n",
    "evens = []\n",
    "\n",
    "# This is selection where they go through the numbers and decide whether if it is even or not. \n",
    "for i in numbers:\n",
    "    # This is iteration because they repeat the steps until they go through all the numbers in the list. \n",
    "    if (numbers[i] % 2 == 0):\n",
    "        evens.append(numbers[i])\n",
    "\n",
    "print(evens)"
   ]
  },
  {
   "cell_type": "code",
   "execution_count": 5,
   "metadata": {},
   "outputs": [
    {
     "name": "stdout",
     "output_type": "stream",
     "text": [
      "*\n",
      "**\n",
      "***\n",
      "****\n",
      "*****\n"
     ]
    }
   ],
   "source": [
    "# The objective is to make a pyramid of stars\n",
    "# This is the sequence\n",
    "i = 1\n",
    "starString = \"*\"\n",
    "# This is iteration because they repeat until i reaches 5\n",
    "while i <= 5:\n",
    "  j = 1\n",
    "  # This is the selection where they decide what j is\n",
    "  while j <= i:\n",
    "    print (\"*\", end= \"\")\n",
    "    j += 1\n",
    "  print ()\n",
    "  i += 1"
   ]
  },
  {
   "cell_type": "markdown",
   "metadata": {},
   "source": [
    "## 3.3 Video 2 Hacks\n",
    "\n"
   ]
  },
  {
   "cell_type": "markdown",
   "metadata": {},
   "source": [
    "### Plan for Assignment: \n",
    "- Explain the topic and then make practice problems like the one below for class to try, then I want to have them create their own CollegeBoard with certain requirements. "
   ]
  },
  {
   "cell_type": "markdown",
   "metadata": {},
   "source": [
    "### Practice Problem #1\n",
    "a <-- 12\n",
    "\n",
    "b <-- 3\n",
    "\n",
    "c <-- 8\n",
    "\n",
    "d <-- 5\n",
    "\n",
    "a <-- b\n",
    "\n",
    "b <-- c + d\n",
    "\n",
    "d <-- b \n",
    "\n",
    "find the value for a, b, c, d "
   ]
  },
  {
   "cell_type": "markdown",
   "metadata": {},
   "source": [
    "## 3.3 Video 3 Hacks\n",
    "\n"
   ]
  },
  {
   "cell_type": "markdown",
   "metadata": {},
   "source": [
    "## 3.4 Video 1 Hacks\n",
    "\n"
   ]
  }
 ],
 "metadata": {
  "kernelspec": {
   "display_name": "Python 3",
   "language": "python",
   "name": "python3"
  },
  "language_info": {
   "codemirror_mode": {
    "name": "ipython",
    "version": 3
   },
   "file_extension": ".py",
   "mimetype": "text/x-python",
   "name": "python",
   "nbconvert_exporter": "python",
   "pygments_lexer": "ipython3",
   "version": "3.8.10"
  },
  "orig_nbformat": 4,
  "vscode": {
   "interpreter": {
    "hash": "916dbcbb3f70747c44a77c7bcd40155683ae19c65e1c03b4aa3499c5328201f1"
   }
  }
 },
 "nbformat": 4,
 "nbformat_minor": 2
}
