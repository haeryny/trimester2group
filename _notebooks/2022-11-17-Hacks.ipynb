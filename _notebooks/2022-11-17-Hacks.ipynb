{
 "cells": [
  {
   "cell_type": "markdown",
   "metadata": {},
   "source": [
    "# Hacks\n",
    "- title: Homework Assignment for 3.3-4\n",
    "- toc: true\n",
    "- tags: [hw]"
   ]
  },
  {
   "cell_type": "markdown",
   "metadata": {},
   "source": [
    "## 3.3 Video 1 Hacks\n",
    "\n",
    "Show two examples and label which one is sequence, selection, iteration"
   ]
  },
  {
   "cell_type": "code",
   "execution_count": 6,
   "metadata": {},
   "outputs": [
    {
     "name": "stdout",
     "output_type": "stream",
     "text": [
      "[0, 2, 4, 6, 8, 10]\n"
     ]
    }
   ],
   "source": [
    "numbers = [0,1,2,3,4,5,6,7,8,9,10]\n",
    "evens = []\n",
    "\n",
    "for i in numbers:\n",
    "    if (numbers[i] % 2 == 0):\n",
    "        evens.append(numbers[i])\n",
    "\n",
    "print(evens)"
   ]
  },
  {
   "cell_type": "markdown",
   "metadata": {},
   "source": [
    "### Answers 1\n",
    "All the steps combined are sequencing\n",
    "\n",
    "The step \"for i in numbers:\" is iteration because they go through all the numbers.\n",
    "\n",
    "\"if (numbers[i] % 2 == 0)\" is selection because they sort each number to find the even ones."
   ]
  },
  {
   "cell_type": "code",
   "execution_count": 7,
   "metadata": {},
   "outputs": [
    {
     "name": "stdout",
     "output_type": "stream",
     "text": [
      "*\n",
      "**\n",
      "***\n",
      "****\n",
      "*****\n"
     ]
    }
   ],
   "source": [
    "i = 1\n",
    "starString = \"*\"\n",
    "while i <= 5:\n",
    "  j = 1\n",
    "  while j <= i:\n",
    "    print (\"*\", end= \"\")\n",
    "    j += 1\n",
    "  print ()\n",
    "  i += 1"
   ]
  },
  {
   "cell_type": "markdown",
   "metadata": {},
   "source": [
    "### Answers 2\n",
    "\n",
    "All the steps are a sequence\n",
    "\n",
    "\"While i <= 5:\" is iteration because they repeat until i reaches 5\n",
    "\n",
    "\"While j <= i:\" is selection because this is where they decide what j is"
   ]
  },
  {
   "cell_type": "markdown",
   "metadata": {},
   "source": [
    "## 3.3 Video 2 Hacks\n",
    "\n"
   ]
  },
  {
   "cell_type": "markdown",
   "metadata": {},
   "source": [
    "### Plan for Assignment: \n",
    "- Explain the topic and then make practice problems like the one below for class to try, then I want to have them create their own CollegeBoard with certain requirements. "
   ]
  },
  {
   "cell_type": "markdown",
   "metadata": {},
   "source": [
    "### Practice Problem #1\n",
    "a <-- 12\n",
    "\n",
    "b <-- 3\n",
    "\n",
    "c <-- 8\n",
    "\n",
    "d <-- 5\n",
    "\n",
    "a <-- b\n",
    "\n",
    "b <-- c + d\n",
    "\n",
    "d <-- b \n",
    "\n",
    "find the value for a, b, c, d "
   ]
  },
  {
   "cell_type": "markdown",
   "metadata": {},
   "source": [
    "## 3.3 Video 3 Hacks\n",
    "\n"
   ]
  },
  {
   "cell_type": "markdown",
   "metadata": {},
   "source": [
    "## 3.4 Video 1 Hacks\n",
    "\n",
    "### String Homework\n",
    "---------------------------------------------------------------\n",
    "\n",
    "\n",
    "- Test 1\n",
    "\n",
    "    firstName <- \"Bob\"\n",
    "    lastName <- \"Smith\"\n",
    "    var <- substring(firstName, 1, 1)\n",
    "    name <- concat(lastName, var)\n",
    "    email <- concat(name, \"@gmail.com\")\n",
    "    DISPLAY(email)\n",
    "\n",
    "- What would the result be?\n",
    "\n",
    " Hint:\n",
    " var = \"B\"\n",
    " name = \"SmithB\"\n",
    "\n",
    "---------------------------------------------------------------\n",
    "- Test 2\n",
    "\n",
    "    word1 <- \"computer\"\n",
    "    word2 <- \"textbooks\"\n",
    "    length1 <- len(word1)/2\n",
    "    length2 <- len(word2)/3\n",
    "    first <- substring(word1, 2, len1)\n",
    "    second <- substring(word2, len2+3, len2)\n",
    "    newWord <- concat(first, second)\n",
    "    DISPLAY(newWord)\n",
    "---------------------------------------------------------------\n",
    "\n",
    "#### Answers\n",
    " Test 1\n",
    "- Result: \"SmithB@gmail.com\"\n",
    "\n",
    " Test 2\n",
    "- Result: \"ompuook\"\n",
    "\n",
    "\n"
   ]
  }
 ],
 "metadata": {
  "kernelspec": {
   "display_name": "Python 3.8.2 64-bit",
   "language": "python",
   "name": "python3"
  },
  "language_info": {
   "name": "python",
   "version": "3.8.2"
  },
  "orig_nbformat": 4,
  "vscode": {
   "interpreter": {
    "hash": "31f2aee4e71d21fbe5cf8b01ff0e069b9275f58929596ceb00d14d90e3e16cd6"
   }
  }
 },
 "nbformat": 4,
 "nbformat_minor": 2
}
