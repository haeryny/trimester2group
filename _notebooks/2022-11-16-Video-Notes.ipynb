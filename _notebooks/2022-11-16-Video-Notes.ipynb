{
 "cells": [
  {
   "cell_type": "markdown",
   "metadata": {},
   "source": [
    "# 3.3-4 Notes\n",
    "> \n",
    "\n",
    "- toc: true \n",
    "- badges: true\n",
    "- comments: true\n",
    "- sticky_rank: 1"
   ]
  },
  {
   "cell_type": "markdown",
   "metadata": {},
   "source": [
    "## 3.3 Notes Video 1\n",
    "\n",
    "Arithmetic Operators \n",
    "\n",
    "Addition: a + b \n",
    "Subtraction: a - b\n",
    "Multiplication: a * b\n",
    "Division: a / b\n",
    "Modulus (returns the value after division): a MOD b\n",
    "    Ex: 9 MOD 2 = 1\n",
    "        Reason: 9 divided evenly in half is 4 with 1 left over. Therefore the answer is 1.\n",
    "\n",
    "Order of Operations: \n",
    "1. Parentheses \n",
    "2. Exponent\n",
    "3. Multiplication\n",
    "4. Division\n",
    "5. Addition\n",
    "6. Subtraction\n",
    "Example:\n",
    "10 + 5 * (8 / 4)   1. Parentheses \n",
    "= 10 + 5 * 2       2. Multiplication \n",
    "= 10 + 10          3. Addition\n",
    "= 20\n",
    "\n",
    "Order of Operations: Program form \n",
    "- MOD is handled at the same level as multiplication and division in the order of operations \n",
    "Example: \n",
    "num1 <- 12  \n",
    "num2 <- 25  \n",
    "num3 <- 14\n",
    "result <- num1 / 4 * num3 + 9 MOD 2 - num3 \n",
    "\n",
    "DISPLAY (result)\n",
    "\n",
    "How to solve: \n",
    "1. Divide num1 (12) by \n",
    "\n"
   ]
  },
  {
   "cell_type": "markdown",
   "metadata": {},
   "source": [
    "## 3.3 Notes Video 2"
   ]
  },
  {
   "cell_type": "markdown",
   "metadata": {},
   "source": [
    "## 3.3 Notes Video 3"
   ]
  },
  {
   "cell_type": "markdown",
   "metadata": {},
   "source": [
    "## 3.4 Notes Video 1"
   ]
  }
 ],
 "metadata": {
  "kernelspec": {
   "display_name": "Python 3.8.10 64-bit",
   "language": "python",
   "name": "python3"
  },
  "language_info": {
   "name": "python",
   "version": "3.8.10"
  },
  "orig_nbformat": 4,
  "vscode": {
   "interpreter": {
    "hash": "916dbcbb3f70747c44a77c7bcd40155683ae19c65e1c03b4aa3499c5328201f1"
   }
  }
 },
 "nbformat": 4,
 "nbformat_minor": 2
}
