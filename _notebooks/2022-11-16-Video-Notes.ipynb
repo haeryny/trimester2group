{
 "cells": [
  {
   "cell_type": "markdown",
   "metadata": {},
   "source": [
    "# 3.3-4 Notes\n",
    "> \n",
    "\n",
    "- toc: true \n",
    "- badges: true\n",
    "- comments: true\n",
    "- sticky_rank: 1"
   ]
  },
  {
   "cell_type": "markdown",
   "metadata": {},
   "source": [
    "## 3.3 Notes Video 1\n",
    "\n",
    "### Learning Objective\n",
    "Express an algorithm that uses sequencing without using a programming language\n",
    "\n",
    "### Essential Knowledge\n",
    "- Algorithms can be expressed in a variety of ways and can be executed by programs which are implemented using programming languages. \n",
    "- Every algorithm can be constructed using combinations of sequencing, selection, and iteration\n",
    "\n",
    "An algorithm is a finite set of instructions that accomplish a specific task, us as humans, do algorithms on a daily basis. \n",
    "\n",
    "Sequencing is doing steps in order, for example, doing the first step then the second then the third, etc. \n",
    "\n",
    "Selection is when the programmer decides between two different outcomes. \n",
    "\n",
    "Iteration is when you have to repeat a step until that condition is fulfilled. \n",
    "\n",
    "### Examples\n",
    "\n",
    "Most algorithms use a flow chart to demonstrate how the algorithm proceeds. \n",
    "\n",
    "1. Set largestNumber to 0\n",
    "2. Get next number in list\n",
    "3. If number is larger than largestNumber then set largestNumber to number\n",
    "4. If there are more numbers in list, go back to Step 2\n",
    "5. Display largestNumber\n",
    "\n",
    "Sequencing: Steps 1-5 in order\n",
    "\n",
    "Selection: Step 3\n",
    "\n",
    "Iteration: Step 4 "
   ]
  },
  {
   "cell_type": "code",
   "execution_count": 1,
   "metadata": {},
   "outputs": [
    {
     "name": "stdout",
     "output_type": "stream",
     "text": [
      "[0, 2, 4, 6, 8, 10]\n"
     ]
    }
   ],
   "source": [
    "# Code Example\n",
    "\n",
    "## These are all the steps that the computer goes through so this is sequencing\n",
    "\n",
    "numbers = [0,1,2,3,4,5,6,7,8,9,10]\n",
    "evens = []\n",
    "\n",
    "## This is selection where they go through the numbers and decide whether if it is even or not. \n",
    "for i in numbers:\n",
    "    ## This is iteration because they repeat the steps until they go through all the numbers in the list. \n",
    "    if (numbers[i] % 2 == 0):\n",
    "        evens.append(numbers[i])\n",
    "\n",
    "print(evens)"
   ]
  },
  {
   "cell_type": "markdown",
   "metadata": {},
   "source": [
    "## 3.3 Notes Video 2"
   ]
  },
  {
   "cell_type": "markdown",
   "metadata": {},
   "source": [
    "- algorithm- finite set of instructions that accomplish a specific task, composed of sequencing, selection, and iteration. \n",
    "- sequencing- outline or set of steps that we do and follow in order that they are given \n",
    "- variable- you can store an actual value, the value of a variable in another variable, the result of an operation, or result of a procedural call\n",
    "\n",
    "Practice: calculate and display average of 25, 43, and 18\n",
    "- num 1 <-- 25\n",
    "- num 2 <-- 43\n",
    "- num 3 <-- 18\n",
    "- average <-- (num 1 + num 2 + num 3)/3 \n",
    "- display average \n",
    "= 28.667"
   ]
  },
  {
   "cell_type": "markdown",
   "metadata": {},
   "source": [
    "## 3.3 Notes Video 3"
   ]
  },
  {
   "cell_type": "markdown",
   "metadata": {},
   "source": [
    "## 3.4 Notes Video 1"
   ]
  }
 ],
 "metadata": {
  "kernelspec": {
   "display_name": "Python 3",
   "language": "python",
   "name": "python3"
  },
  "language_info": {
   "codemirror_mode": {
    "name": "ipython",
    "version": 3
   },
   "file_extension": ".py",
   "mimetype": "text/x-python",
   "name": "python",
   "nbconvert_exporter": "python",
   "pygments_lexer": "ipython3",
   "version": "3.8.10"
  },
  "orig_nbformat": 4,
  "vscode": {
   "interpreter": {
    "hash": "916dbcbb3f70747c44a77c7bcd40155683ae19c65e1c03b4aa3499c5328201f1"
   }
  }
 },
 "nbformat": 4,
 "nbformat_minor": 2
}
