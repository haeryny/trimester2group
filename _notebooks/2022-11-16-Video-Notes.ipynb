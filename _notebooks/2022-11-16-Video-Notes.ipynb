{
 "cells": [
  {
   "cell_type": "markdown",
   "metadata": {},
   "source": [
    "# 3.3-4 Notes\n",
    "> \n",
    "\n",
    "- toc: true \n",
    "- badges: true\n",
    "- comments: true\n",
    "- sticky_rank: 1"
   ]
  },
  {
   "cell_type": "markdown",
   "metadata": {},
   "source": [
    "## 3.3 Notes Video 1\n",
    "\n"
   ]
  },
  {
   "cell_type": "markdown",
   "metadata": {},
   "source": [
    "## 3.3 Notes Video 2"
   ]
  },
  {
   "cell_type": "markdown",
   "metadata": {},
   "source": [
    "## 3.3 Notes Video 3"
   ]
  },
  {
   "cell_type": "markdown",
   "metadata": {},
   "source": [
    "## 3.4 Notes Video 1\n",
    "\n",
    "\n",
    "#### Big Idea: Strings\n",
    "\n",
    "#### Goal: To evaluate expressions that manipulate strings\n",
    "Vocab and Examples:\n",
    "\n",
    "String: a sequence of characters\n",
    "\n",
    "1. Len: finds the number of characters in a string\n",
    "\n",
    "    len(\"school\")\n",
    "\n",
    "    Result:\n",
    "    \"5\"\n",
    "------------------------------------------------------------\n",
    "2. String concatenation: combines two or more strings into one\n",
    "\n",
    "    concat(\"computers\", \"arecool\" )\n",
    "\n",
    "    Result:\n",
    "    \"computersarecool\"\n",
    "------------------------------------------------------------\n",
    "3. Substring: a part of a existing string\n",
    "\n",
    "    substring(\"APCSPrinciples\", 3, 6)\n",
    "\n",
    "    Result:\n",
    "    \"CSPrin\"\n",
    "\n",
    "    Starts at the 3rd character (\"C\") and takes 6 characters after that (\"SPrin), then in all (\"CSPrin\")"
   ]
  }
 ],
 "metadata": {
  "kernelspec": {
   "display_name": "Python 3.9.12 ('base')",
   "language": "python",
   "name": "python3"
  },
  "language_info": {
   "codemirror_mode": {
    "name": "ipython",
    "version": 3
   },
   "file_extension": ".py",
   "mimetype": "text/x-python",
   "name": "python",
   "nbconvert_exporter": "python",
   "pygments_lexer": "ipython3",
   "version": "3.9.12"
  },
  "orig_nbformat": 4,
  "vscode": {
   "interpreter": {
    "hash": "40d3a090f54c6569ab1632332b64b2c03c39dcf918b08424e98f38b5ae0af88f"
   }
  }
 },
 "nbformat": 4,
 "nbformat_minor": 2
}
