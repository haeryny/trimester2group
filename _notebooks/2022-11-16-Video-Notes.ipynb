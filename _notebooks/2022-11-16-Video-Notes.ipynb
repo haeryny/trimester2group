{
 "cells": [
  {
   "cell_type": "markdown",
   "metadata": {},
   "source": [
    "# 3.3-4 Notes\n",
    "> \n",
    "\n",
    "- toc: true \n",
    "- badges: true\n",
    "- comments: true\n",
    "- sticky_rank: 1"
   ]
  },
  {
   "cell_type": "markdown",
   "metadata": {},
   "source": [
    "## 3.3 Notes Video 1\n",
    "\n",
<<<<<<< HEAD
    "Arithmetic Operators \n",
    "\n",
    "Addition: a + b \n",
    "Subtraction: a - b\n",
    "Multiplication: a * b\n",
    "Division: a / b\n",
    "Modulus (returns the value after division): a MOD b\n",
    "    Ex: 9 MOD 2 = 1\n",
    "        Reason: 9 divided evenly in half is 4 with 1 left over. Therefore the answer is 1.\n",
    "\n",
    "Order of Operations: \n",
    "1. Parentheses \n",
    "2. Exponent\n",
    "3. Multiplication\n",
    "4. Division\n",
    "5. Addition\n",
    "6. Subtraction\n",
    "Example:\n",
    "10 + 5 * (8 / 4)   1. Parentheses \n",
    "= 10 + 5 * 2       2. Multiplication \n",
    "= 10 + 10          3. Addition\n",
    "= 20\n",
    "\n",
    "Order of Operations: Program form \n",
    "- MOD is handled at the same level as multiplication and division in the order of operations \n",
    "Example: \n",
    "num1 <- 12  \n",
    "num2 <- 25  \n",
    "num3 <- 14\n",
    "result <- num1 / 4 * num3 + 9 MOD 2 - num3 \n",
    "\n",
    "DISPLAY (result)\n",
    "\n",
    "How to solve: \n",
    "1. Divide num1 (12) by \n",
    "\n"
=======
    "### Learning Objective\n",
    "Express an algorithm that uses sequencing without using a programming language\n",
    "\n",
    "### Essential Knowledge\n",
    "- Algorithms can be expressed in a variety of ways and can be executed by programs which are implemented using programming languages. \n",
    "- Every algorithm can be constructed using combinations of sequencing, selection, and iteration\n",
    "\n",
    "An algorithm is a finite set of instructions that accomplish a specific task, us as humans, do algorithms on a daily basis. \n",
    "\n",
    "Sequencing is doing steps in order, for example, doing the first step then the second then the third, etc. \n",
    "\n",
    "Selection is when the programmer decides between two different outcomes. \n",
    "\n",
    "Iteration is when you have to repeat a step until that condition is fulfilled. \n",
    "\n",
    "### Examples\n",
    "\n",
    "Most algorithms use a flow chart to demonstrate how the algorithm proceeds. \n",
    "\n",
    "1. Set largestNumber to 0\n",
    "2. Get next number in list\n",
    "3. If number is larger than largestNumber then set largestNumber to number\n",
    "4. If there are more numbers in list, go back to Step 2\n",
    "5. Display largestNumber\n",
    "\n",
    "Sequencing: Steps 1-5 in order\n",
    "\n",
    "Selection: Step 3\n",
    "\n",
    "Iteration: Step 4 "
   ]
  },
  {
   "cell_type": "code",
   "execution_count": 1,
   "metadata": {},
   "outputs": [
    {
     "name": "stdout",
     "output_type": "stream",
     "text": [
      "[0, 2, 4, 6, 8, 10]\n"
     ]
    }
   ],
   "source": [
    "# Code Example\n",
    "\n",
    "## These are all the steps that the computer goes through so this is sequencing\n",
    "\n",
    "numbers = [0,1,2,3,4,5,6,7,8,9,10]\n",
    "evens = []\n",
    "\n",
    "## This is selection where they go through the numbers and decide whether if it is even or not. \n",
    "for i in numbers:\n",
    "    ## This is iteration because they repeat the steps until they go through all the numbers in the list. \n",
    "    if (numbers[i] % 2 == 0):\n",
    "        evens.append(numbers[i])\n",
    "\n",
    "print(evens)"
>>>>>>> d54dae305359ce4211e26c712eb532f687d16202
   ]
  },
  {
   "cell_type": "markdown",
   "metadata": {},
   "source": [
    "## 3.3 Notes Video 2"
   ]
  },
  {
   "cell_type": "markdown",
   "metadata": {},
   "source": [
    "## 3.3 Notes Video 3"
   ]
  },
  {
   "cell_type": "markdown",
   "metadata": {},
   "source": [
    "## 3.4 Notes Video 1"
   ]
  }
 ],
 "metadata": {
  "kernelspec": {
<<<<<<< HEAD
   "display_name": "Python 3.8.10 64-bit",
=======
   "display_name": "Python 3",
>>>>>>> d54dae305359ce4211e26c712eb532f687d16202
   "language": "python",
   "name": "python3"
  },
  "language_info": {
<<<<<<< HEAD
   "name": "python",
=======
   "codemirror_mode": {
    "name": "ipython",
    "version": 3
   },
   "file_extension": ".py",
   "mimetype": "text/x-python",
   "name": "python",
   "nbconvert_exporter": "python",
   "pygments_lexer": "ipython3",
>>>>>>> d54dae305359ce4211e26c712eb532f687d16202
   "version": "3.8.10"
  },
  "orig_nbformat": 4,
  "vscode": {
   "interpreter": {
    "hash": "916dbcbb3f70747c44a77c7bcd40155683ae19c65e1c03b4aa3499c5328201f1"
   }
  }
 },
 "nbformat": 4,
 "nbformat_minor": 2
}
