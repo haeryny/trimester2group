{
 "cells": [
  {
   "cell_type": "markdown",
   "metadata": {},
   "source": [
    "# 3.3 Arithmetic Operations in Expressions Assignment \n",
    "- title: CB 3.3 Topic HW\n",
    "- toc: true\n",
    "- tags: [hw]"
   ]
  },
  {
   "cell_type": "markdown",
   "metadata": {},
   "source": [
    "## Plan for Assignment: \n",
    "- Explain the topic and then make practice problems for class to try, then I want to have them create their own CollegeBoard with certain requirements. \n"
   ]
  },
  {
   "cell_type": "markdown",
   "metadata": {},
   "source": [
    "## Practice Problem #1\n",
    "a <-- 12\n",
    "\n",
    "b <-- 3\n",
    "\n",
    "c <-- 8\n",
    "\n",
    "d <-- 5\n",
    "\n",
    "a <-- b\n",
    "\n",
    "b <-- c + d\n",
    "\n",
    "d <-- b \n",
    "\n",
    "find the value for a, b, c, d "
   ]
  }
 ],
 "metadata": {
  "kernelspec": {
   "display_name": "Python 3",
   "language": "python",
   "name": "python3"
  },
  "language_info": {
   "name": "python",
   "version": "3.8.10 (default, Jun 22 2022, 20:18:18) \n[GCC 9.4.0]"
  },
  "orig_nbformat": 4,
  "vscode": {
   "interpreter": {
    "hash": "916dbcbb3f70747c44a77c7bcd40155683ae19c65e1c03b4aa3499c5328201f1"
   }
  }
 },
 "nbformat": 4,
 "nbformat_minor": 2
}
